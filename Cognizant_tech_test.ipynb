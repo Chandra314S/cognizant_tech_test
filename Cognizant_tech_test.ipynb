{
 "cells": [
  {
   "cell_type": "markdown",
   "id": "cae8cc75",
   "metadata": {},
   "source": [
    "# creating base Dict"
   ]
  },
  {
   "cell_type": "code",
   "execution_count": 1,
   "id": "1bdd6825",
   "metadata": {},
   "outputs": [],
   "source": [
    "#Step1:- Creating Base dict\n",
    "import csv\n",
    "base={}\n",
    "with open ('C:/Users/chand/Downloads/cognizant_tech_test/data.csv') as file:\n",
    "    var=csv.DictReader(file)\n",
    "    for row in var:\n",
    "        base['Base URL']=row['Base URL']\n",
    "        base[\"Level 1 - Name\"]=row[\"Level 1 - Name\"]\n",
    "        base[\"Level 1 - ID\"]=row[\"Level 1 - ID\"]\n",
    "        base[\"Level 1 - URL\"]=row[\"Level 1 - URL\"]"
   ]
  },
  {
   "cell_type": "code",
   "execution_count": 3,
   "id": "39bd3098",
   "metadata": {},
   "outputs": [],
   "source": [
    "##step2-1: \n",
    "import csv\n",
    "i=[]\n",
    "with open('C:/Users/chand/Downloads/cognizant_tech_test/data.csv') as file:\n",
    "    var=csv.DictReader(file)\n",
    "    for row in var:\n",
    "        i.append(row)"
   ]
  },
  {
   "cell_type": "markdown",
   "id": "413efd0d",
   "metadata": {},
   "source": [
    "# creating lvl2 Dict"
   ]
  },
  {
   "cell_type": "code",
   "execution_count": 4,
   "id": "900baccf",
   "metadata": {},
   "outputs": [],
   "source": [
    "##step2-2:- Creating lvl2 dict\n",
    "lvl_FRESH={}\n",
    "lvl_FOOD_CUPBOARD={}\n",
    "lvl_BAKERY_CAKES={}\n",
    "lvl_FROZEN={}\n",
    "lvl_DRINKS={}\n",
    "for j in i:\n",
    "#     print(j[\"Level 2 - Name\"])\n",
    "    if j[\"Level 2 - Name\"]==\"FRESH\":\n",
    "        lvl_FRESH[\"Level 2 - Name\"]=j[\"Level 2 - Name\"]\n",
    "        lvl_FRESH[\"Level 2 - ID\"]=j[\"Level 2 - ID\"]\n",
    "        lvl_FRESH[\"Level 2 URL\"]=j[\"Level 2 URL\"]\n",
    "    elif j[\"Level 2 - Name\"]==\"FOOD CUPBOARD\":\n",
    "        lvl_FOOD_CUPBOARD[\"Level 2 - Name\"]=j[\"Level 2 - Name\"]\n",
    "        lvl_FOOD_CUPBOARD[\"Level 2 - ID\"]=j[\"Level 2 - ID\"]\n",
    "        lvl_FOOD_CUPBOARD[\"Level 2 URL\"]=j[\"Level 2 URL\"]\n",
    "    elif j[\"Level 2 - Name\"]==\"BAKERY & CAKES\":\n",
    "        lvl_BAKERY_CAKES[\"Level 2 - Name\"]=j[\"Level 2 - Name\"]\n",
    "        lvl_BAKERY_CAKES[\"Level 2 - ID\"]=j[\"Level 2 - ID\"]\n",
    "        lvl_BAKERY_CAKES[\"Level 2 URL\"]=j[\"Level 2 URL\"]\n",
    "    elif j[\"Level 2 - Name\"]==\"FROZEN\":\n",
    "        lvl_FROZEN[\"Level 2 - Name\"]=j[\"Level 2 - Name\"]\n",
    "        lvl_FROZEN[\"Level 2 - ID\"]=j[\"Level 2 - ID\"]\n",
    "        lvl_FROZEN[\"Level 2 URL\"]=j[\"Level 2 URL\"]\n",
    "    else:\n",
    "        lvl_DRINKS[\"Level 2 - Name\"]=j[\"Level 2 - Name\"]\n",
    "        lvl_DRINKS[\"Level 2 - ID\"]=j[\"Level 2 - ID\"]\n",
    "        lvl_DRINKS[\"Level 2 URL\"]=j[\"Level 2 URL\"]"
   ]
  },
  {
   "cell_type": "markdown",
   "id": "055fa85e",
   "metadata": {},
   "source": [
    "# Creating list for lvl3"
   ]
  },
  {
   "cell_type": "code",
   "execution_count": 5,
   "id": "2dd863ef",
   "metadata": {},
   "outputs": [],
   "source": [
    "##step3 creating lvl3\n",
    "child_FRESH=[]\n",
    "child_FOOD_CUPBOARD=[]\n",
    "child_BAKERY_CAKES=[]\n",
    "child_FROZEN=[]\n",
    "child_DRINKS=[]\n",
    "for k in i:\n",
    "#     print(k)\n",
    "    if k[\"Level 2 - Name\"]==\"FRESH\":\n",
    "        child_FRESH.append({\"Level 3 - Name\":k[\"Level 3 - Name\"],\"Level 3 - ID\":k[\"Level 3 - ID\"],\"Level 3 URL\":k[\"Level 3 URL\"]})\n",
    "    elif k[\"Level 2 - Name\"]==\"FOOD CUPBOARD\":\n",
    "        child_FOOD_CUPBOARD.append({\"Level 3 - Name\":k[\"Level 3 - Name\"],\"Level 3 - ID\":k[\"Level 3 - ID\"],\"Level 3 URL\":k[\"Level 3 URL\"]})\n",
    "    elif k[\"Level 2 - Name\"]==\"BAKERY & CAKES\":\n",
    "        child_BAKERY_CAKES.append({\"Level 3 - Name\":k[\"Level 3 - Name\"],\"Level 3 - ID\":k[\"Level 3 - ID\"],\"Level 3 URL\":k[\"Level 3 URL\"]}) \n",
    "    elif k[\"Level 2 - Name\"]==\"FROZEN\":\n",
    "        child_FROZEN.append({\"Level 3 - Name\":k[\"Level 3 - Name\"],\"Level 3 - ID\":k[\"Level 3 - ID\"],\"Level 3 URL\":k[\"Level 3 URL\"]})\n",
    "    elif k[\"Level 2 - Name\"]==\"DRINKS\":\n",
    "        child_DRINKS.append({\"Level 3 - Name\":k[\"Level 3 - Name\"],\"Level 3 - ID\":k[\"Level 3 - ID\"],\"Level 3 URL\":k[\"Level 3 URL\"]})"
   ]
  },
  {
   "cell_type": "markdown",
   "id": "511c6ff7",
   "metadata": {},
   "source": [
    "# Creating child key in lvl2 for lvl3 list"
   ]
  },
  {
   "cell_type": "code",
   "execution_count": 6,
   "id": "8e9c69d5",
   "metadata": {
    "scrolled": true
   },
   "outputs": [
    {
     "name": "stdout",
     "output_type": "stream",
     "text": [
      "{'Base URL': 'https://groceries.retailer.com/browse', 'Level 1 - Name': 'THE BEST', 'Level 1 - ID': '178974', 'Level 1 - URL': 'https://groceries.retailer.com/browse/178974', 'children': [{'Level 2 - Name': 'FRESH', 'Level 2 - ID': '178969', 'Level 2 URL': 'https://groceries.retailer.com/browse/178974/178969', 'children': [{'Level 3 - Name': '', 'Level 3 - ID': '', 'Level 3 URL': ''}, {'Level 3 - Name': 'CHEESE', 'Level 3 - ID': '178975', 'Level 3 URL': 'https://groceries.retailer.com/browse/178974/178969/178975'}, {'Level 3 - Name': 'COOKED MEAT & ANTIPASTI', 'Level 3 - ID': '178976', 'Level 3 URL': 'https://groceries.retailer.com/browse/178974/178969/178976'}, {'Level 3 - Name': 'DAIRY & EGGS', 'Level 3 - ID': '178977', 'Level 3 URL': 'https://groceries.retailer.com/browse/178974/178969/178977'}, {'Level 3 - Name': 'DESSERTS', 'Level 3 - ID': '178978', 'Level 3 URL': 'https://groceries.retailer.com/browse/178974/178969/178978'}, {'Level 3 - Name': 'DRINKS', 'Level 3 - ID': '178979', 'Level 3 URL': 'https://groceries.retailer.com/browse/178974/178969/178979'}, {'Level 3 - Name': 'FISH & SEAFOOD', 'Level 3 - ID': '178980', 'Level 3 URL': 'https://groceries.retailer.com/browse/178974/178969/178980'}, {'Level 3 - Name': 'FRUIT & VEGETABLES', 'Level 3 - ID': '178981', 'Level 3 URL': 'https://groceries.retailer.com/browse/178974/178969/178981'}, {'Level 3 - Name': 'MEAT & POULTRY', 'Level 3 - ID': '178982', 'Level 3 URL': 'https://groceries.retailer.com/browse/178974/178969/178982'}, {'Level 3 - Name': 'NUTS & SNACKS', 'Level 3 - ID': '178983', 'Level 3 URL': 'https://groceries.retailer.com/browse/178974/178969/178983'}, {'Level 3 - Name': 'PIES & QUICHES ', 'Level 3 - ID': '178984', 'Level 3 URL': 'https://groceries.retailer.com/browse/178974/178969/178984'}, {'Level 3 - Name': 'PIZZA, PASTA & GARLIC BREAD', 'Level 3 - ID': '178985', 'Level 3 URL': 'https://groceries.retailer.com/browse/178974/178969/178985'}, {'Level 3 - Name': 'READY MEALS', 'Level 3 - ID': '178986', 'Level 3 URL': 'https://groceries.retailer.com/browse/178974/178969/178986'}, {'Level 3 - Name': 'SAVOURY SNACKS & CHILLED', 'Level 3 - ID': '178987', 'Level 3 URL': 'https://groceries.retailer.com/browse/178974/178969/178987'}, {'Level 3 - Name': 'SOUPS & SAUCES', 'Level 3 - ID': '178988', 'Level 3 URL': 'https://groceries.retailer.com/browse/178974/178969/178988'}, {'Level 3 - Name': 'VEGETARIAN', 'Level 3 - ID': '178989', 'Level 3 URL': 'https://groceries.retailer.com/browse/178974/178969/178989'}]}, {'Level 2 - Name': 'FOOD CUPBOARD', 'Level 2 - ID': '178970', 'Level 2 URL': 'https://groceries.retailer.com/browse/178974/178970', 'children': [{'Level 3 - Name': '', 'Level 3 - ID': '', 'Level 3 URL': ''}, {'Level 3 - Name': 'ANTIPASTI', 'Level 3 - ID': '178990', 'Level 3 URL': 'https://groceries.retailer.com/browse/178974/178970/178990'}, {'Level 3 - Name': 'BISCUITS & CRACKERS', 'Level 3 - ID': '178991', 'Level 3 URL': 'https://groceries.retailer.com/browse/178974/178970/178991'}, {'Level 3 - Name': 'BREAKFAST CEREALS', 'Level 3 - ID': '178992', 'Level 3 URL': 'https://groceries.retailer.com/browse/178974/178970/178992'}, {'Level 3 - Name': 'CHOCOLATE & SWEETS', 'Level 3 - ID': '178993', 'Level 3 URL': 'https://groceries.retailer.com/browse/178974/178970/178993'}, {'Level 3 - Name': 'CONDIMENTS & DRESSINGS', 'Level 3 - ID': '178994', 'Level 3 URL': 'https://groceries.retailer.com/browse/178974/178970/178994'}, {'Level 3 - Name': 'CRISPS & SAVOURY SNACKS', 'Level 3 - ID': '178995', 'Level 3 URL': 'https://groceries.retailer.com/browse/178974/178970/178995'}, {'Level 3 - Name': 'HOMEBAKING', 'Level 3 - ID': '179016', 'Level 3 URL': 'https://groceries.retailer.com/browse/178974/178970/179016'}, {'Level 3 - Name': 'JAMS, SPREADS & CHUTNEYS', 'Level 3 - ID': '179017', 'Level 3 URL': 'https://groceries.retailer.com/browse/178974/178970/179017'}, {'Level 3 - Name': 'PASTA', 'Level 3 - ID': '179018', 'Level 3 URL': 'https://groceries.retailer.com/browse/178974/178970/179018'}, {'Level 3 - Name': 'PUDDINGS & DESSERTS', 'Level 3 - ID': '179019', 'Level 3 URL': 'https://groceries.retailer.com/browse/178974/178970/179019'}, {'Level 3 - Name': 'SAUCES, STOCKS & GRAVY', 'Level 3 - ID': '179020', 'Level 3 URL': 'https://groceries.retailer.com/browse/178974/178970/179020'}, {'Level 3 - Name': 'TEA & COFFEE', 'Level 3 - ID': '179021', 'Level 3 URL': 'https://groceries.retailer.com/browse/178974/178970/179021'}, {'Level 3 - Name': 'TINS & CANS', 'Level 3 - ID': '179022', 'Level 3 URL': 'https://groceries.retailer.com/browse/178974/178970/179022'}]}, {'Level 2 - Name': 'BAKERY & CAKES', 'Level 2 - ID': '178971', 'Level 2 URL': 'https://groceries.retailer.com/browse/178974/178971', 'children': [{'Level 3 - Name': '', 'Level 3 - ID': '', 'Level 3 URL': ''}, {'Level 3 - Name': 'BREAD & BREAD ROLLS', 'Level 3 - ID': '179023', 'Level 3 URL': 'https://groceries.retailer.com/browse/178974/178971/179023'}, {'Level 3 - Name': 'CAKES, PIES & TARTS', 'Level 3 - ID': '179024', 'Level 3 URL': 'https://groceries.retailer.com/browse/178974/178971/179024'}, {'Level 3 - Name': 'CROISSANTS & BREAKFAST BAKERY', 'Level 3 - ID': '179025', 'Level 3 URL': 'https://groceries.retailer.com/browse/178974/178971/179025'}, {'Level 3 - Name': 'DESSERTS & PUDDINGS', 'Level 3 - ID': '179026', 'Level 3 URL': 'https://groceries.retailer.com/browse/178974/178971/179026'}, {'Level 3 - Name': 'FRUITED BREAD, SCONES & HOT CROSS BUNS', 'Level 3 - ID': '179027', 'Level 3 URL': 'https://groceries.retailer.com/browse/178974/178971/179027'}]}, {'Level 2 - Name': 'FROZEN', 'Level 2 - ID': '178972', 'Level 2 URL': 'https://groceries.retailer.com/browse/178974/178972', 'children': [{'Level 3 - Name': '', 'Level 3 - ID': '', 'Level 3 URL': ''}, {'Level 3 - Name': 'CAKES, PIES & TARTS', 'Level 3 - ID': '179028', 'Level 3 URL': 'https://groceries.retailer.com/browse/178974/178972/179028'}, {'Level 3 - Name': 'CHIPS, POTATOES & VEGETABLES', 'Level 3 - ID': '179029', 'Level 3 URL': 'https://groceries.retailer.com/browse/178974/178972/179029'}, {'Level 3 - Name': 'DESSERTS', 'Level 3 - ID': '179030', 'Level 3 URL': 'https://groceries.retailer.com/browse/178974/178972/179030'}, {'Level 3 - Name': 'FISH & SEAFOOD', 'Level 3 - ID': '179031', 'Level 3 URL': 'https://groceries.retailer.com/browse/178974/178972/179031'}, {'Level 3 - Name': 'ICE CREAM & LOLLIES', 'Level 3 - ID': '179032', 'Level 3 URL': 'https://groceries.retailer.com/browse/178974/178972/179032'}, {'Level 3 - Name': 'MEAT & POULTRY', 'Level 3 - ID': '179033', 'Level 3 URL': 'https://groceries.retailer.com/browse/178974/178972/179033'}, {'Level 3 - Name': 'PIES & PASTRIES', 'Level 3 - ID': '179034', 'Level 3 URL': 'https://groceries.retailer.com/browse/178974/178972/179034'}, {'Level 3 - Name': 'PIZZA & GARLIC BREAD', 'Level 3 - ID': '179035', 'Level 3 URL': 'https://groceries.retailer.com/browse/178974/178972/179035'}, {'Level 3 - Name': 'READY MEALS', 'Level 3 - ID': '179036', 'Level 3 URL': 'https://groceries.retailer.com/browse/178974/178972/179036'}]}, {'Level 2 - Name': 'DRINKS', 'Level 2 - ID': '178973', 'Level 2 URL': 'https://groceries.retailer.com/browse/178974/178973', 'children': [{'Level 3 - Name': '', 'Level 3 - ID': '', 'Level 3 URL': ''}, {'Level 3 - Name': 'SOFT DRINKS', 'Level 3 - ID': '179037', 'Level 3 URL': 'https://groceries.retailer.com/browse/178974/178973/179037'}, {'Level 3 - Name': 'WINE & SPARKLING', 'Level 3 - ID': '179038', 'Level 3 URL': 'https://groceries.retailer.com/browse/178974/178973/179038'}, {'Level 3 - Name': 'BEER', 'Level 3 - ID': '179039', 'Level 3 URL': 'https://groceries.retailer.com/browse/178974/178973/179039'}]}]}\n"
     ]
    }
   ],
   "source": [
    "lvl_FRESH[\"children\"]=child_FRESH\n",
    "lvl_FOOD_CUPBOARD[\"children\"]=child_FOOD_CUPBOARD\n",
    "lvl_BAKERY_CAKES[\"children\"]=child_BAKERY_CAKES\n",
    "lvl_FROZEN[\"children\"]=child_FROZEN\n",
    "lvl_DRINKS[\"children\"]=child_DRINKS\n",
    "\n",
    "base[\"children\"]=[lvl_FRESH,lvl_FOOD_CUPBOARD,lvl_BAKERY_CAKES,lvl_FROZEN,lvl_DRINKS]\n",
    "\n",
    "print(base)"
   ]
  },
  {
   "cell_type": "code",
   "execution_count": null,
   "id": "39d86220",
   "metadata": {},
   "outputs": [],
   "source": []
  }
 ],
 "metadata": {
  "kernelspec": {
   "display_name": "Python 3 (ipykernel)",
   "language": "python",
   "name": "python3"
  },
  "language_info": {
   "codemirror_mode": {
    "name": "ipython",
    "version": 3
   },
   "file_extension": ".py",
   "mimetype": "text/x-python",
   "name": "python",
   "nbconvert_exporter": "python",
   "pygments_lexer": "ipython3",
   "version": "3.10.5"
  }
 },
 "nbformat": 4,
 "nbformat_minor": 5
}
